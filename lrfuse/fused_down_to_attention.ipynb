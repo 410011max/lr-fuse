{
 "cells": [
  {
   "cell_type": "code",
   "execution_count": 2,
   "metadata": {},
   "outputs": [],
   "source": [
    "import torch\n",
    "import torch.nn as nn\n",
    "from transformers.models.llama.modeling_llama import *\n",
    "from svd_linear import SVDLinear\n",
    "\n",
    "config = LlamaConfig()\n",
    "down_proj = nn.Linear(config.intermediate_size, config.hidden_size, bias=False) #config.mlp_bias)\n",
    "q_proj = nn.Linear(config.hidden_size, config.hidden_size, bias=config.attention_bias)\n",
    "post_attention_layernorm = LlamaRMSNorm(config.hidden_size, eps=config.rms_norm_eps)\n",
    "\n",
    "input_tensor = torch.randn(1, config.intermediate_size)\n",
    "residual = torch.randn(1, config.hidden_size)\n",
    "\n",
    "# Original\n",
    "down_proj_output = down_proj(input_tensor) + residual\n",
    "hidden_states = post_attention_layernorm(down_proj_output)\n",
    "query_states = q_proj(hidden_states)"
   ]
  },
  {
   "cell_type": "code",
   "execution_count": 3,
   "metadata": {},
   "outputs": [
    {
     "name": "stdout",
     "output_type": "stream",
     "text": [
      "SVD Rank: 4096\n"
     ]
    }
   ],
   "source": [
    "down_proj_svd = SVDLinear.from_linear(down_proj, 0.9999, sigma_fuse=\"V\")"
   ]
  },
  {
   "cell_type": "code",
   "execution_count": 13,
   "metadata": {},
   "outputs": [
    {
     "name": "stdout",
     "output_type": "stream",
     "text": [
      "torch.Size([1, 4096])\n"
     ]
    }
   ],
   "source": [
    "# hidden_states_svd = down_proj_svd(input_tensor)\n",
    "BLinear = down_proj_svd.BLinear\n",
    "ALinear = down_proj_svd.ALinear\n",
    "rms_weight = post_attention_layernorm.weight\n",
    "rms_variance_epsilon = post_attention_layernorm.variance_epsilon\n",
    "\n",
    "\n",
    "hidden_states_svd = BLinear(input_tensor)\n",
    "\n",
    "# residual\n",
    "residual_svd = residual @ torch.linalg.inv(ALinear.weight.T)\n",
    "print(residual_svd.shape)\n",
    "hidden_states_svd = hidden_states_svd + residual_svd\n",
    "\n",
    "# RMNS\n",
    "variance = hidden_states_svd.pow(2).mean(-1, keepdim=True)\n",
    "hidden_states_svd = hidden_states_svd * torch.rsqrt(variance + rms_variance_epsilon)\n",
    "\n",
    "hidden_states_svd = ALinear(hidden_states_svd)\n",
    "\n",
    "q_weight = torch.diag(rms_weight) @ q_proj.weight\n",
    "\n",
    "query_states_svd = hidden_states_svd @ q_weight.T\n",
    "\n",
    "assert torch.allclose(query_states, query_states_svd, rtol=1e-2, atol=1e-2), \"Query outputs are not close enough.\""
   ]
  },
  {
   "cell_type": "code",
   "execution_count": 7,
   "metadata": {},
   "outputs": [
    {
     "name": "stdout",
     "output_type": "stream",
     "text": [
      "tensor([[-0.2041, -0.5595,  0.4613,  ..., -0.6617,  0.7821, -0.2123]],\n",
      "       grad_fn=<MmBackward0>) tensor([[ 0.2511, -0.3472, -0.7434,  ..., -0.3110,  0.2701,  0.2605],\n",
      "        [ 0.2107, -0.3737, -0.7364,  ..., -0.2949,  0.2445,  0.2642],\n",
      "        [ 0.2116, -0.3664, -0.7571,  ..., -0.2833,  0.2490,  0.2561],\n",
      "        ...,\n",
      "        [ 0.2097, -0.3602, -0.7262,  ..., -0.2962,  0.2775,  0.2271],\n",
      "        [ 0.2417, -0.3902, -0.7415,  ..., -0.2990,  0.2328,  0.2796],\n",
      "        [ 0.2097, -0.4000, -0.7214,  ..., -0.3018,  0.2791,  0.2286]],\n",
      "       grad_fn=<MmBackward0>)\n"
     ]
    }
   ],
   "source": [
    "print(query_states, query_states_svd)"
   ]
  }
 ],
 "metadata": {
  "kernelspec": {
   "display_name": "lrfuse",
   "language": "python",
   "name": "python3"
  },
  "language_info": {
   "codemirror_mode": {
    "name": "ipython",
    "version": 3
   },
   "file_extension": ".py",
   "mimetype": "text/x-python",
   "name": "python",
   "nbconvert_exporter": "python",
   "pygments_lexer": "ipython3",
   "version": "3.10.12"
  }
 },
 "nbformat": 4,
 "nbformat_minor": 2
}
